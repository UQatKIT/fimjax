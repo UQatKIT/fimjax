{
 "cells": [
  {
   "cell_type": "code",
   "execution_count": 71,
   "metadata": {},
   "outputs": [],
   "source": [
    "import numpy as np\n",
    "from fimjax.util.mesh_generation import generate_identity_2d_mesh\n",
    "from fimjax.util.datastructures import InitialValues\n",
    "from fimjax.main import Solver\n",
    "\n",
    "mesh, metrics = generate_identity_2d_mesh(30)\n",
    "initial_values = InitialValues(locations=np.array([0]), values=np.array([0.]))\n",
    "solver = Solver()\n",
    "result = solver.solve(\n",
    "    mesh = mesh,\n",
    "    initial_values = initial_values,\n",
    "    metrics = metrics,\n",
    "    iter=200\n",
    ")"
   ]
  },
  {
   "cell_type": "code",
   "execution_count": 72,
   "metadata": {},
   "outputs": [],
   "source": [
    "import jax.numpy as jnp\n",
    "import jax\n",
    "\n",
    "\n",
    "ground_truth = result.solution\n",
    "def loss(x):\n",
    "    return jnp.sum((x-ground_truth)**2)\n",
    "\n",
    "loss_gradient = jax.grad(loss)"
   ]
  },
  {
   "cell_type": "code",
   "execution_count": 73,
   "metadata": {},
   "outputs": [],
   "source": [
    "alpha = float(1.8)\n",
    "metrics_prime = alpha*metrics\n",
    "solution_prime = solver.solve(\n",
    "    mesh = mesh,\n",
    "    initial_values = initial_values,\n",
    "    metrics = metrics_prime,\n",
    "    iter=200\n",
    ").solution\n",
    "\n",
    "adjoint = loss_gradient(solution_prime)"
   ]
  },
  {
   "cell_type": "code",
   "execution_count": 74,
   "metadata": {},
   "outputs": [],
   "source": [
    "val, vjp = solver.value_and_vjp(\n",
    "    mesh = mesh,\n",
    "    initial_values = initial_values,\n",
    "    metrics = metrics_prime,\n",
    "    iter=200,\n",
    "    adjoint_vector=adjoint\n",
    ")"
   ]
  },
  {
   "cell_type": "code",
   "execution_count": 75,
   "metadata": {},
   "outputs": [
    {
     "data": {
      "text/plain": [
       "(1682, 2, 2)"
      ]
     },
     "execution_count": 75,
     "metadata": {},
     "output_type": "execute_result"
    }
   ],
   "source": [
    "vjp.shape"
   ]
  },
  {
   "cell_type": "code",
   "execution_count": 83,
   "metadata": {},
   "outputs": [
    {
     "data": {
      "text/plain": [
       "(Array(265.15057, dtype=float32, weak_type=True),)"
      ]
     },
     "execution_count": 83,
     "metadata": {},
     "output_type": "execute_result"
    }
   ],
   "source": [
    "m = float(2)\n",
    "def metric_tensor(m: float):\n",
    "    return m*metrics\n",
    "\n",
    "_, vjp_fun = jax.vjp(metric_tensor, m)\n",
    "dl_dm = vjp_fun(vjp)\n",
    "dl_dm"
   ]
  },
  {
   "cell_type": "code",
   "execution_count": 81,
   "metadata": {},
   "outputs": [
    {
     "data": {
      "text/plain": [
       "(Array(265.15057, dtype=float32, weak_type=True),)"
      ]
     },
     "execution_count": 81,
     "metadata": {},
     "output_type": "execute_result"
    }
   ],
   "source": [
    "vjp_fun(vjp)"
   ]
  },
  {
   "cell_type": "code",
   "execution_count": null,
   "metadata": {},
   "outputs": [],
   "source": []
  },
  {
   "cell_type": "code",
   "execution_count": null,
   "metadata": {},
   "outputs": [],
   "source": []
  }
 ],
 "metadata": {
  "kernelspec": {
   "display_name": "default",
   "language": "python",
   "name": "python3"
  },
  "language_info": {
   "codemirror_mode": {
    "name": "ipython",
    "version": 3
   },
   "file_extension": ".py",
   "mimetype": "text/x-python",
   "name": "python",
   "nbconvert_exporter": "python",
   "pygments_lexer": "ipython3",
   "version": "3.13.1"
  }
 },
 "nbformat": 4,
 "nbformat_minor": 2
}
